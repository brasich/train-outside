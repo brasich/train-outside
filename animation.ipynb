{
 "cells": [
  {
   "cell_type": "code",
   "execution_count": 1,
   "metadata": {},
   "outputs": [],
   "source": [
    "import pandas as pd\n",
    "import plotly.express as px\n",
    "import os\n",
    "import json\n",
    "import matplotlib.pyplot as plt\n",
    "import numpy as np\n",
    "from IPython.display import clear_output\n",
    "import time\n",
    "import datetime"
   ]
  },
  {
   "cell_type": "code",
   "execution_count": 2,
   "metadata": {},
   "outputs": [],
   "source": [
    "position_records = []\n",
    "\n",
    "directory = os.fsencode('vehicle_positions_hist')\n",
    "for file in os.listdir(directory):\n",
    "    filename = os.fsdecode(file)\n",
    "    with open(f'vehicle_positions_hist/{filename}', 'r') as f:\n",
    "        new_records = json.load(f)\n",
    "        for record in new_records:\n",
    "            record['insert_ts'] = int(filename.replace('.json', ''))\n",
    "\n",
    "    position_records.extend(new_records)"
   ]
  },
  {
   "cell_type": "code",
   "execution_count": 3,
   "metadata": {},
   "outputs": [],
   "source": [
    "df = pd.DataFrame.from_records(position_records)\n",
    "\n",
    "routes = pd.read_csv('routes.txt')\n",
    "\n",
    "df = df.merge(routes[['route_id', 'route_color']], on='route_id', how='left')\n",
    "df['route_color'] = df['route_color'].fillna('0076CE')\n",
    "df['route_color'] = '#' + df['route_color']\n",
    "\n",
    "df['vehicle_update_ts_rounded'] = (np.ceil(df['vehicle_update_ts'].fillna(0) / 30)).astype('int') * 30"
   ]
  },
  {
   "cell_type": "code",
   "execution_count": 4,
   "metadata": {},
   "outputs": [],
   "source": [
    "rail_route_ids = ['101D', '101E', '101H', '103W', '107R', '109L', '113B', '113G', '117N', 'A', 'FF1', 'FF2', 'FF3', 'AB1']\n",
    "\n",
    "df['size'] = 1\n",
    "df.loc[df['route_id'].isin(rail_route_ids), 'size'] = 10\n",
    "\n",
    "all_timestamps = df['vehicle_update_ts_rounded'].unique()"
   ]
  },
  {
   "cell_type": "code",
   "execution_count": 5,
   "metadata": {},
   "outputs": [],
   "source": [
    "def get_filled_vehicle_df(vehicle_id):\n",
    "    veh_df = df[df['vehicle_id'] == vehicle_id].sort_values('vehicle_update_ts_rounded').drop_duplicates()\n",
    "    veh_df['row_num'] = veh_df.sort_values(['vehicle_update_ts_rounded','insert_ts'], ascending=[True,True]).groupby(['vehicle_update_ts_rounded']).cumcount() + 1\n",
    "    veh_df = veh_df[veh_df['row_num'] == 1]\n",
    "\n",
    "    veh_df = veh_df.set_index(veh_df['vehicle_update_ts_rounded'])\n",
    "    veh_df.sort_index(inplace=True)\n",
    "\n",
    "    new_index = pd.Index(np.arange(all_timestamps.min(), all_timestamps.max(), 30), name='vehicle_update_ts_rounded_full')\n",
    "    veh_df = veh_df.reindex(new_index, method='pad').reset_index()\n",
    "\n",
    "    veh_df = veh_df[veh_df['vehicle_update_ts_rounded_full'].between(veh_df['vehicle_update_ts_rounded'].min(), veh_df['vehicle_update_ts_rounded'].max())]\n",
    "\n",
    "    return veh_df"
   ]
  },
  {
   "cell_type": "code",
   "execution_count": 6,
   "metadata": {},
   "outputs": [],
   "source": [
    "filled_df = pd.concat([get_filled_vehicle_df(vehicle_id) for vehicle_id in df['vehicle_id'].unique()])"
   ]
  },
  {
   "cell_type": "code",
   "execution_count": 7,
   "metadata": {},
   "outputs": [],
   "source": [
    "def export_image_smooth(timestamp):\n",
    "    plot_df = filled_df[(filled_df['vehicle_update_ts_rounded_full'] == timestamp)]\n",
    "    fig = px.scatter_mapbox(plot_df, lat='lat', lon='lon', height=1440, width=1440, center={'lat': 39.9, 'lon': -105}, zoom=10, color='route_color', color_discrete_map='identity', size='size', hover_data='vehicle_label')\n",
    "    fig.update_layout(mapbox_style='carto-positron')\n",
    "    fig.update_layout(margin={\"r\": 0, \"t\": 0, \"l\": 0, \"b\": 0})\n",
    "    fig.update_layout(showlegend=False)\n",
    "    fig.update_layout(title={'text': datetime.datetime.fromtimestamp(timestamp).strftime('%B %d %Y, %-I:%M %p'), 'font': {'size': 50}, 'automargin': True, 'yref': 'paper'})\n",
    "    fig.update_layout(title_x=0.5)\n",
    "    fig.write_image(f'frames/{timestamp}.png')\n",
    "    #return fig "
   ]
  },
  {
   "cell_type": "code",
   "execution_count": 8,
   "metadata": {},
   "outputs": [
    {
     "name": "stdout",
     "output_type": "stream",
     "text": [
      "3325 / 3190 done. 6098.669652462006 elapsed, -247.61515882176565 remaining\n",
      "Exporting Frame 1718231700...\n"
     ]
    }
   ],
   "source": [
    "start_time = time.time()\n",
    "prev_time = start_time\n",
    "for i, timestamp in enumerate(filled_df['vehicle_update_ts_rounded_full'].unique()):    \n",
    "    print(f'Exporting Frame {timestamp}...')\n",
    "\n",
    "    export_image_smooth(timestamp)\n",
    "    \n",
    "    clear_output(wait=True)\n",
    "\n",
    "    current_time = time.time()\n",
    "    print(f'{i+1} / {len(all_timestamps)} done. {current_time - start_time} elapsed, {(current_time - start_time) / (i + 1) * (len(all_timestamps) - i - 1)} remaining')"
   ]
  },
  {
   "cell_type": "code",
   "execution_count": null,
   "metadata": {},
   "outputs": [
    {
     "name": "stderr",
     "output_type": "stream",
     "text": [
      "ffmpeg version 6.1.1-3ubuntu5 Copyright (c) 2000-2023 the FFmpeg developers\n",
      "  built with gcc 13 (Ubuntu 13.2.0-23ubuntu3)\n",
      "  configuration: --prefix=/usr --extra-version=3ubuntu5 --toolchain=hardened --libdir=/usr/lib/x86_64-linux-gnu --incdir=/usr/include/x86_64-linux-gnu --arch=amd64 --enable-gpl --disable-stripping --disable-omx --enable-gnutls --enable-libaom --enable-libass --enable-libbs2b --enable-libcaca --enable-libcdio --enable-libcodec2 --enable-libdav1d --enable-libflite --enable-libfontconfig --enable-libfreetype --enable-libfribidi --enable-libglslang --enable-libgme --enable-libgsm --enable-libharfbuzz --enable-libmp3lame --enable-libmysofa --enable-libopenjpeg --enable-libopenmpt --enable-libopus --enable-librubberband --enable-libshine --enable-libsnappy --enable-libsoxr --enable-libspeex --enable-libtheora --enable-libtwolame --enable-libvidstab --enable-libvorbis --enable-libvpx --enable-libwebp --enable-libx265 --enable-libxml2 --enable-libxvid --enable-libzimg --enable-openal --enable-opencl --enable-opengl --disable-sndio --enable-libvpl --disable-libmfx --enable-libdc1394 --enable-libdrm --enable-libiec61883 --enable-chromaprint --enable-frei0r --enable-ladspa --enable-libbluray --enable-libjack --enable-libpulse --enable-librabbitmq --enable-librist --enable-libsrt --enable-libssh --enable-libsvtav1 --enable-libx264 --enable-libzmq --enable-libzvbi --enable-lv2 --enable-sdl2 --enable-libplacebo --enable-librav1e --enable-pocketsphinx --enable-librsvg --enable-libjxl --enable-shared\n",
      "  libavutil      58. 29.100 / 58. 29.100\n",
      "  libavcodec     60. 31.102 / 60. 31.102\n",
      "  libavformat    60. 16.100 / 60. 16.100\n",
      "  libavdevice    60.  3.100 / 60.  3.100\n",
      "  libavfilter     9. 12.100 /  9. 12.100\n",
      "  libswscale      7.  5.100 /  7.  5.100\n",
      "  libswresample   4. 12.100 /  4. 12.100\n",
      "  libpostproc    57.  3.100 / 57.  3.100\n",
      "Input #0, image2, from 'frames/*.png':\n",
      "  Duration: 00:01:09.63, start: 0.000000, bitrate: N/A\n",
      "  Stream #0:0: Video: png, rgba(pc, gbr/unknown/unknown), 1440x1440, 24 fps, 24 tbr, 24 tbn\n",
      "Stream mapping:\n",
      "  Stream #0:0 -> #0:0 (png (native) -> mpeg4 (native))\n",
      "Press [q] to stop, [?] for help\n",
      "Output #0, mp4, to 'movie.mp4':\n",
      "  Metadata:\n",
      "    encoder         : Lavf60.16.100\n",
      "  Stream #0:0: Video: mpeg4 (mp4v / 0x7634706D), yuv420p(tv, progressive), 1440x1440, q=2-31, 40000 kb/s, 24 fps, 12288 tbn\n",
      "    Metadata:\n",
      "      encoder         : Lavc60.31.102 mpeg4\n",
      "    Side data:\n",
      "      cpb: bitrate max/min/avg: 0/0/40000000 buffer size: 0 vbv_delay: N/A\n",
      "[out#0/mp4 @ 0x57c9d5f86540] video:62504kB audio:0kB subtitle:0kB other streams:0kB global headers:0kB muxing overhead: 0.013857%\n",
      "frame= 1671 fps=222 q=2.0 Lsize=   62513kB time=00:01:09.58 bitrate=7359.6kbits/s speed=9.25x    \n"
     ]
    },
    {
     "data": {
      "text/plain": [
       "0"
      ]
     },
     "execution_count": 12,
     "metadata": {},
     "output_type": "execute_result"
    }
   ],
   "source": [
    "os.system(\"ffmpeg -framerate 24 -pattern_type glob -i 'frames/*.png' -c:v mpeg4 -y -vb 40M movie.mp4\")"
   ]
  },
  {
   "cell_type": "code",
   "execution_count": null,
   "metadata": {},
   "outputs": [],
   "source": []
  }
 ],
 "metadata": {
  "kernelspec": {
   "display_name": "tinkering",
   "language": "python",
   "name": "python3"
  },
  "language_info": {
   "codemirror_mode": {
    "name": "ipython",
    "version": 3
   },
   "file_extension": ".py",
   "mimetype": "text/x-python",
   "name": "python",
   "nbconvert_exporter": "python",
   "pygments_lexer": "ipython3",
   "version": "3.12.3"
  }
 },
 "nbformat": 4,
 "nbformat_minor": 2
}
