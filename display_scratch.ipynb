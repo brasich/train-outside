{
 "cells": [
  {
   "cell_type": "code",
   "execution_count": 113,
   "metadata": {},
   "outputs": [
    {
     "name": "stderr",
     "output_type": "stream",
     "text": [
      "/tmp/ipykernel_16502/667869685.py:25: SettingWithCopyWarning: \n",
      "A value is trying to be set on a copy of a slice from a DataFrame.\n",
      "Try using .loc[row_indexer,col_indexer] = value instead\n",
      "\n",
      "See the caveats in the documentation: https://pandas.pydata.org/pandas-docs/stable/user_guide/indexing.html#returning-a-view-versus-a-copy\n",
      "  amtrak_display['relevant_datetime'] = amtrak_display['estimated_arrival']\n",
      "/tmp/ipykernel_16502/667869685.py:28: SettingWithCopyWarning: \n",
      "A value is trying to be set on a copy of a slice from a DataFrame.\n",
      "Try using .loc[row_indexer,col_indexer] = value instead\n",
      "\n",
      "See the caveats in the documentation: https://pandas.pydata.org/pandas-docs/stable/user_guide/indexing.html#returning-a-view-versus-a-copy\n",
      "  amtrak_display['relevant_datetime'] = pd.to_datetime(amtrak_display['relevant_datetime'], format='%a %b %d, %I:%S%p')\n"
     ]
    }
   ],
   "source": [
    "from rtd import refresh_vehicles\n",
    "from amtrak import TrainTracker\n",
    "import time\n",
    "import pandas as pd\n",
    "from PIL import Image, ImageDraw, ImageFont\n",
    "\n",
    "rtd_df = refresh_vehicles()\n",
    "tt = TrainTracker()\n",
    "tt.get_train_data()\n",
    "amtrak_df = tt.get_denver_train_df()\n",
    "\n",
    "time.sleep(15)\n",
    "new_positions = refresh_vehicles()\n",
    "\n",
    "position_comparison = new_positions[['vehicle_label', 'route_id', 'distance', 'vehicle_update_seconds_ago']].merge(rtd_df[['vehicle_label', 'distance', 'vehicle_update_seconds_ago']], on='vehicle_label', suffixes=['_new', '_old'], how='left').fillna(9999)\n",
    "position_comparison['status'] = None\n",
    "position_comparison.loc[(position_comparison['distance_new'] < 0.2) & (position_comparison['distance_old'] > 0.2), 'status'] = 'arriving'\n",
    "position_comparison.loc[(position_comparison['distance_new'] < 0.2) & (position_comparison['distance_old'] < 0.2), 'status'] = 'at station'\n",
    "position_comparison.loc[(position_comparison['distance_new'] > 0.2) & (position_comparison['distance_old'] < 0.2), 'status'] = 'departing'\n",
    "position_comparison.loc[(position_comparison['distance_new'] > 0.2) & (position_comparison['distance_old'] > 0.2), 'status'] = 'away'\n",
    "\n",
    "rtd_display = position_comparison.sort_values('distance_new')[['route_id', 'distance_new', 'vehicle_update_seconds_ago_new', 'status']].rename({'route_id': 'route', 'distance_new': 'distance', 'vehicle_update_seconds_ago_new': 'update_age'})\n",
    "\n",
    "amtrak_display = amtrak_df[['train_num', 'dest', 'origin', 'velocity', 'status', 'actual_arrival', 'scheduled_arrival', 'estimated_arrival', 'actual_departure', 'scheduled_departure', 'estimated_departure']]\n",
    "amtrak_display['relevant_datetime'] = amtrak_display['estimated_arrival']\n",
    "amtrak_display.loc[amtrak_display['status'] == 'departed', 'relevant_datetime'] = amtrak_display['actual_departure']\n",
    "amtrak_display.loc[amtrak_display['status'] == 'arrived', 'relevant_datetime'] = amtrak_display['estimated_departure']\n",
    "amtrak_display['relevant_datetime'] = pd.to_datetime(amtrak_display['relevant_datetime'], format='%a %b %d, %I:%S%p')\n",
    "amtrak_display = amtrak_display.sort_values('relevant_datetime')\n",
    "amtrak_display['relevant_datetime'] = amtrak_display['relevant_datetime'].dt.strftime(' %I:%S%p %m/%d')"
   ]
  },
  {
   "cell_type": "code",
   "execution_count": 114,
   "metadata": {},
   "outputs": [
    {
     "data": {
      "image/jpeg": "[encoded data removed]",
      "image/png": "[encoded data removed]",
      "text/plain": [
       "<PIL.Image.Image image mode=RGB size=250x122>"
      ]
     },
     "metadata": {},
     "output_type": "display_data"
    }
   ],
   "source": [
    "out = Image.new(\"RGB\", (250, 122), (255, 255, 255))\n",
    "\n",
    "fnt = ImageFont.truetype(\"../fonts/NotoSansMono_Condensed-Regular.ttf\", 10)\n",
    "titles = ImageFont.truetype(\"../fonts/Roboto-Bold.ttf\", 14)\n",
    "d = ImageDraw.Draw(out)\n",
    "\n",
    "d.text(xy=(125/2,10), text='Amtrak', anchor='mt', font=titles, fill=(0,0,0))\n",
    "d.text(xy=(250 - 125/2,10), text='RTD', anchor='mt', font=titles, fill=(0,0,0))\n",
    "d.line(xy=[(125, 0), (125, 122)], fill=(0,0,0), width=1)\n",
    "\n",
    "curr_y = 30\n",
    "for index, row in amtrak_display.iterrows():\n",
    "    d.text(xy=(125/2,curr_y), text=f\"{row['train_num']} {row['dest']} {row['status'][:3].upper()} {row['relevant_datetime']}\".replace(' 0', ' ').replace('  ', ' '), anchor='mt', font=fnt, fill=(0,0,0))\n",
    "    curr_y += 13\n",
    "\n",
    "curr_y = 30\n",
    "for index, row in rtd_display.reset_index().iterrows():\n",
    "    if index < 7:\n",
    "        d.text(xy=(250 - 125/2,curr_y), text=f\"{row['route_id'][-1]:<4} {round(row['distance_new'], 1):>4}  {row['status'].upper():>10}\", anchor='mt', font=fnt, fill=(0,0,0))\n",
    "        curr_y += 13\n",
    "\n",
    "out.show()"
   ]
  }
 ],
 "metadata": {
  "kernelspec": {
   "display_name": "tinkering",
   "language": "python",
   "name": "python3"
  },
  "language_info": {
   "codemirror_mode": {
    "name": "ipython",
    "version": 3
   },
   "file_extension": ".py",
   "mimetype": "text/x-python",
   "name": "python",
   "nbconvert_exporter": "python",
   "pygments_lexer": "ipython3",
   "version": "3.12.4"
  }
 },
 "nbformat": 4,
 "nbformat_minor": 2
}
